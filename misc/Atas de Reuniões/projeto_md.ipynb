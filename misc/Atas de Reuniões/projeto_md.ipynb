{
 "cells": [
  {
   "cell_type": "markdown",
   "metadata": {},
   "source": [
    "# Assistente Amplia"
   ]
  },
  {
   "cell_type": "markdown",
   "metadata": {},
   "source": [
    "O projeto é dividido em três partes:\n",
    "\n",
    "- Sistema\n",
    "- Burocracias de planejamento\n",
    "- Burocracias de desenvolvimento"
   ]
  },
  {
   "cell_type": "markdown",
   "metadata": {},
   "source": [
    "## Sistema"
   ]
  },
  {
   "cell_type": "markdown",
   "metadata": {},
   "source": [
    "É a parte grossa, a parte principal do código que vamos desenvolver, o próprio \"Assistente Amplia\". Ele deve conter:"
   ]
  },
  {
   "cell_type": "markdown",
   "metadata": {},
   "source": [
    "## Burocracias de planejamento"
   ]
  },
  {
   "cell_type": "markdown",
   "metadata": {},
   "source": [
    "São os documentos de projeto relativos ao seu design e planejamento de estrutura e desenvolvimento. Aqui se encontram:"
   ]
  },
  {
   "cell_type": "markdown",
   "metadata": {},
   "source": [
    "- Diagrama de Casos de Uso\n",
    "- Diagrama de Classe\n",
    "- Diagrama de Pacote\n",
    "- Diagrama de Componentes (opcional)\n",
    "- Diagrama de Sequência (opcional)\n",
    "- Relatório em PDF com a cobertura do código"
   ]
  },
  {
   "cell_type": "markdown",
   "metadata": {},
   "source": [
    "## Burocracias de implementação"
   ]
  },
  {
   "cell_type": "markdown",
   "metadata": {},
   "source": [
    "Incluí basicamente os testes e requisitos não funcionais do sistema. Ou seja, são coisas que devemos ter em mente antes de começar a implementação do sistema, já que irão reger a forma como o código é desenvolvido."
   ]
  },
  {
   "cell_type": "markdown",
   "metadata": {},
   "source": [
    "- Evidências de TDD\n",
    "    - Cada integrante deve ter duas unidades desenvolvidas com TDD\n",
    "    - Cria-se um teste\n",
    "    - Cria-se um código ruim que passa no teste\n",
    "    - Faz-se refactor deixando o código bom\n",
    "    - **! VALE NOTA:**\n",
    "        - Commitar o código ruim antes de fazer o refactor\n",
    "        - Utilizar comentários para marcar o estado do código:\n",
    "            - red == código que não passa no teste\n",
    "            - green == código que passa no teste\n",
    "- Evidência de revisão de código\n",
    "    - Implementar partes do sistema por branches\n",
    "    - Abrir pull request\n",
    "    - Alguém que não desenvolveu a branch aceitar/negar a pull request\n",
    "- Boas práticas (que serão avaliadas)\n",
    "    - Comentários\n",
    "    - Documentação (DocString. PEP 257)\n",
    "    - Código limpo e modularizado (PEP 8)\n",
    "    - Exceções User-Defined Data Type\n",
    "- Extra\n",
    "    - Utilizar ferramenta de verificação de qualidade"
   ]
  }
 ],
 "metadata": {
  "language_info": {
   "name": "python"
  }
 },
 "nbformat": 4,
 "nbformat_minor": 2
}
