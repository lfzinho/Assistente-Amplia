{
 "cells": [
  {
   "cell_type": "code",
   "execution_count": 1,
   "metadata": {},
   "outputs": [],
   "source": [
    "class Parent:\n",
    "\n",
    "    name = 'Parent'\n",
    "\n",
    "    @classmethod\n",
    "    def scream(cls):\n",
    "        print(f\"{cls.name} scream\")"
   ]
  },
  {
   "cell_type": "code",
   "execution_count": 2,
   "metadata": {},
   "outputs": [
    {
     "name": "stdout",
     "output_type": "stream",
     "text": [
      "Parent scream\n"
     ]
    }
   ],
   "source": [
    "Parent().scream()"
   ]
  },
  {
   "cell_type": "code",
   "execution_count": 3,
   "metadata": {},
   "outputs": [],
   "source": [
    "class Child(Parent):\n",
    "\n",
    "    name = \"Children\""
   ]
  },
  {
   "cell_type": "code",
   "execution_count": 4,
   "metadata": {},
   "outputs": [
    {
     "name": "stdout",
     "output_type": "stream",
     "text": [
      "Children scream\n"
     ]
    }
   ],
   "source": [
    "Child().scream()"
   ]
  },
  {
   "cell_type": "code",
   "execution_count": 5,
   "metadata": {},
   "outputs": [],
   "source": [
    "from datetime import date\n",
    "from src.models.Analyst import Analyst\n",
    "from src.models.Pix import Pix"
   ]
  },
  {
   "cell_type": "code",
   "execution_count": 6,
   "metadata": {},
   "outputs": [],
   "source": [
    "a = Analyst(\n",
    "    name='João',\n",
    "    email='joaosilva@gmail.com',\n",
    "    cpf='123.456.789-00',\n",
    "    address='Rua 1, 123',\n",
    "    payment_method=Pix(key='12345678900', type_='cpf'),\n",
    "    birth_date=date(year=1990, month=1, day=1),\n",
    "    admission_date=date(year=2021, month=1, day=1),\n",
    "    occupation_area='Administrativo Financeiro',\n",
    "    exit_date=date(year=2022, month=1, day=1),\n",
    ")"
   ]
  },
  {
   "cell_type": "code",
   "execution_count": 7,
   "metadata": {},
   "outputs": [
    {
     "data": {
      "text/plain": [
       "{'_name': 'João',\n",
       " '_email': 'joaosilva@gmail.com',\n",
       " '_cpf': '123.456.789-00',\n",
       " '_address': 'Rua 1, 123',\n",
       " '_payment_method': <src.models.Pix.Pix at 0x171b412d0d0>,\n",
       " '_birth_date': datetime.date(1990, 1, 1),\n",
       " '_admission_date': datetime.date(2021, 1, 1),\n",
       " '_exit_date': datetime.date(2022, 1, 1),\n",
       " '_occupation_area': 'Administrativo Financeiro'}"
      ]
     },
     "execution_count": 7,
     "metadata": {},
     "output_type": "execute_result"
    }
   ],
   "source": [
    "a.__dict__"
   ]
  },
  {
   "cell_type": "code",
   "execution_count": 8,
   "metadata": {},
   "outputs": [
    {
     "data": {
      "text/plain": [
       "'João'"
      ]
     },
     "execution_count": 8,
     "metadata": {},
     "output_type": "execute_result"
    }
   ],
   "source": [
    "a.name"
   ]
  },
  {
   "cell_type": "code",
   "execution_count": 9,
   "metadata": {},
   "outputs": [],
   "source": [
    "from src.database.DataAccessObject import DataAccessObjectFactory"
   ]
  },
  {
   "cell_type": "code",
   "execution_count": 10,
   "metadata": {},
   "outputs": [],
   "source": [
    "d = date(year=2022, month=1, day=1)"
   ]
  },
  {
   "cell_type": "code",
   "execution_count": 13,
   "metadata": {},
   "outputs": [
    {
     "data": {
      "text/plain": [
       "'01-01-2022'"
      ]
     },
     "execution_count": 13,
     "metadata": {},
     "output_type": "execute_result"
    }
   ],
   "source": [
    "d.strftime(\"%d-%m-%Y\")"
   ]
  }
 ],
 "metadata": {
  "kernelspec": {
   "display_name": "Python 3",
   "language": "python",
   "name": "python3"
  },
  "language_info": {
   "codemirror_mode": {
    "name": "ipython",
    "version": 3
   },
   "file_extension": ".py",
   "mimetype": "text/x-python",
   "name": "python",
   "nbconvert_exporter": "python",
   "pygments_lexer": "ipython3",
   "version": "3.11.3"
  }
 },
 "nbformat": 4,
 "nbformat_minor": 2
}
