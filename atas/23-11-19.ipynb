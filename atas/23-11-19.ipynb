{
 "cells": [
  {
   "cell_type": "markdown",
   "metadata": {},
   "source": [
    "# Anotações 19/11/23"
   ]
  },
  {
   "cell_type": "markdown",
   "metadata": {},
   "source": [
    "## Para fazer até o fim da reunião"
   ]
  },
  {
   "cell_type": "markdown",
   "metadata": {},
   "source": [
    "1. Definir quais diagramas serão feitos\n",
    "1. Definir quem vai fazer cada diagrama\n",
    "1. Marcar data da próxima reunião"
   ]
  },
  {
   "cell_type": "markdown",
   "metadata": {},
   "source": [
    "## Para fazer até o próximo encontro"
   ]
  },
  {
   "cell_type": "markdown",
   "metadata": {},
   "source": [
    "1. Registrar principais requisitos do sistema no arquivo \"projeto_md.ipynb\" na seção \"# Sistema\"\n",
    "1. Finalizar diagramas"
   ]
  }
 ],
 "metadata": {
  "language_info": {
   "name": "python"
  }
 },
 "nbformat": 4,
 "nbformat_minor": 2
}
